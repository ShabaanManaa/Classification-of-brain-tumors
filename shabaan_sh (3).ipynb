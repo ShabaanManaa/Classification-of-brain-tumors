{
  "cells": [
    {
      "cell_type": "code",
      "execution_count": 40,
      "metadata": {
        "colab": {
          "base_uri": "https://localhost:8080/"
        },
        "id": "fDTQuMZG-Kcr",
        "outputId": "c9563ba9-8b13-43e8-98e8-ccd5c48ce138"
      },
      "outputs": [
        {
          "output_type": "stream",
          "name": "stdout",
          "text": [
            "/content\n"
          ]
        }
      ],
      "source": [
        "!pwd"
      ],
      "id": "fDTQuMZG-Kcr"
    },
    {
      "cell_type": "code",
      "execution_count": 2,
      "metadata": {
        "colab": {
          "base_uri": "https://localhost:8080/"
        },
        "id": "PMysVLxQIxkG",
        "outputId": "aad69ed1-0d07-4e86-a2eb-81b9846b3baf"
      },
      "outputs": [
        {
          "output_type": "stream",
          "name": "stdout",
          "text": [
            "Mounted at /content/drive\n"
          ]
        }
      ],
      "source": [
        "from google.colab import drive\n",
        "drive.mount('/content/drive')"
      ],
      "id": "PMysVLxQIxkG"
    },
    {
      "cell_type": "code",
      "execution_count": 3,
      "metadata": {
        "id": "2d838d5b"
      },
      "outputs": [],
      "source": [
        "import numpy as np # linear algebra\n",
        "import pandas as pd # data processing, CSV file I/O (e.g. pd.read_csv)\n",
        "import keras\n",
        "from keras.models import Sequential\n",
        "from keras.layers import Conv2D, Flatten, Dense, MaxPooling2D, Dropout\n",
        "from sklearn.metrics import accuracy_score\n",
        "import matplotlib.pyplot as plt\n",
        "import seaborn as sns\n",
        "import ipywidgets as widgets\n",
        "import io\n",
        "import os\n",
        "from PIL import Image\n",
        "import tqdm\n",
        "from sklearn.model_selection import train_test_split\n",
        "import cv2\n",
        "from sklearn.utils import shuffle\n",
        "import tensorflow as tf\n",
        "from tensorflow.keras.preprocessing import image\n"
      ],
      "id": "2d838d5b"
    },
    {
      "cell_type": "code",
      "execution_count": 4,
      "metadata": {
        "id": "268ae3a4"
      },
      "outputs": [],
      "source": [
        "X_train = []\n",
        "y_train = []\n",
        "image_size = 150"
      ],
      "id": "268ae3a4"
    },
    {
      "cell_type": "code",
      "execution_count": 5,
      "metadata": {
        "colab": {
          "base_uri": "https://localhost:8080/"
        },
        "id": "1e8bb4c6",
        "outputId": "c53ef064-efe7-4a8a-f621-1f4482e2aed8"
      },
      "outputs": [
        {
          "output_type": "stream",
          "name": "stdout",
          "text": [
            "['pituitary', 'meningioma', 'glioma', 'notumor']\n"
          ]
        }
      ],
      "source": [
        "train_path ='/content/drive/MyDrive/shosho_ds/Training'\n",
        "labels = os.listdir(train_path)\n",
        "print(labels)"
      ],
      "id": "1e8bb4c6"
    },
    {
      "cell_type": "code",
      "execution_count": 6,
      "metadata": {
        "colab": {
          "base_uri": "https://localhost:8080/"
        },
        "id": "c71b9b1a",
        "outputId": "5ab55fdf-032d-47ae-f9d9-08d614f3bb1c"
      },
      "outputs": [
        {
          "output_type": "stream",
          "name": "stdout",
          "text": [
            "['pituitary', 'meningioma', 'glioma', 'notumor']\n"
          ]
        }
      ],
      "source": [
        "test_path = '/content/drive/MyDrive/shosho_ds/Testing'\n",
        "labels = os.listdir(train_path)\n",
        "print(labels)"
      ],
      "id": "c71b9b1a"
    },
    {
      "cell_type": "code",
      "execution_count": 7,
      "metadata": {
        "id": "ef014d89"
      },
      "outputs": [],
      "source": [
        "for i in labels:\n",
        "    folder_path = os.path.join(train_path, i)\n",
        "    for j in os.listdir(folder_path):\n",
        "        img = cv2.imread(os.path.join(folder_path, j))\n",
        "        img = cv2.resize(img, (image_size, image_size))\n",
        "\n",
        "        X_train.append(img)\n",
        "        y_train.append(i)"
      ],
      "id": "ef014d89"
    },
    {
      "cell_type": "code",
      "execution_count": 8,
      "metadata": {
        "id": "b196ceea"
      },
      "outputs": [],
      "source": [
        "for i in labels:\n",
        "    folder_path = os.path.join(test_path, i)\n",
        "    for j in os.listdir(folder_path):\n",
        "        img = cv2.imread(os.path.join(folder_path, j))\n",
        "        img = cv2.resize(img, (image_size, image_size))\n",
        "\n",
        "        X_train.append(img)\n",
        "        y_train.append(i)"
      ],
      "id": "b196ceea"
    },
    {
      "cell_type": "code",
      "execution_count": 9,
      "metadata": {
        "colab": {
          "base_uri": "https://localhost:8080/"
        },
        "id": "2fab5cd9",
        "outputId": "e3f28e75-27b5-4625-ff91-5715532f2c7b"
      },
      "outputs": [
        {
          "output_type": "execute_result",
          "data": {
            "text/plain": [
              "array([[[ 1,  1,  1],\n",
              "        [ 0,  0,  0],\n",
              "        [ 0,  0,  0],\n",
              "        ...,\n",
              "        [ 0,  0,  0],\n",
              "        [ 1,  1,  1],\n",
              "        [ 1,  1,  1]],\n",
              "\n",
              "       [[ 3,  3,  3],\n",
              "        [ 5,  5,  5],\n",
              "        [ 5,  5,  5],\n",
              "        ...,\n",
              "        [ 5,  5,  5],\n",
              "        [ 5,  5,  5],\n",
              "        [ 4,  4,  4]],\n",
              "\n",
              "       [[ 3,  3,  3],\n",
              "        [ 7,  7,  7],\n",
              "        [11, 11, 11],\n",
              "        ...,\n",
              "        [ 7,  7,  7],\n",
              "        [ 8,  8,  8],\n",
              "        [ 5,  5,  5]],\n",
              "\n",
              "       ...,\n",
              "\n",
              "       [[ 5,  5,  5],\n",
              "        [ 7,  7,  7],\n",
              "        [ 7,  7,  7],\n",
              "        ...,\n",
              "        [ 6,  6,  6],\n",
              "        [ 7,  7,  7],\n",
              "        [ 4,  4,  4]],\n",
              "\n",
              "       [[ 1,  1,  1],\n",
              "        [ 1,  1,  1],\n",
              "        [ 1,  1,  1],\n",
              "        ...,\n",
              "        [ 2,  2,  2],\n",
              "        [ 1,  1,  1],\n",
              "        [ 1,  1,  1]],\n",
              "\n",
              "       [[ 1,  1,  1],\n",
              "        [ 1,  1,  1],\n",
              "        [ 1,  1,  1],\n",
              "        ...,\n",
              "        [ 0,  0,  0],\n",
              "        [ 0,  0,  0],\n",
              "        [ 0,  0,  0]]], dtype=uint8)"
            ]
          },
          "metadata": {},
          "execution_count": 9
        }
      ],
      "source": [
        "X_train[1]"
      ],
      "id": "2fab5cd9"
    },
    {
      "cell_type": "code",
      "execution_count": 10,
      "metadata": {
        "colab": {
          "base_uri": "https://localhost:8080/",
          "height": 35
        },
        "id": "1b048c74",
        "outputId": "33dc7b40-1425-4127-98b8-276b030d2a47"
      },
      "outputs": [
        {
          "output_type": "execute_result",
          "data": {
            "text/plain": [
              "'pituitary'"
            ],
            "application/vnd.google.colaboratory.intrinsic+json": {
              "type": "string"
            }
          },
          "metadata": {},
          "execution_count": 10
        }
      ],
      "source": [
        "\n",
        "y_train[1]"
      ],
      "id": "1b048c74"
    },
    {
      "cell_type": "code",
      "execution_count": 11,
      "metadata": {
        "colab": {
          "base_uri": "https://localhost:8080/"
        },
        "id": "84566396",
        "outputId": "9a98ede0-b4e3-4032-9929-35f64dcbb3ac"
      },
      "outputs": [
        {
          "output_type": "execute_result",
          "data": {
            "text/plain": [
              "(7023, 7023)"
            ]
          },
          "metadata": {},
          "execution_count": 11
        }
      ],
      "source": [
        "# X_train.shape, y_train.shape\n",
        "len(X_train), len(y_train)"
      ],
      "id": "84566396"
    },
    {
      "cell_type": "code",
      "execution_count": 12,
      "metadata": {
        "id": "3e439335"
      },
      "outputs": [],
      "source": [
        "X_train = np.array(X_train)\n",
        "y_train = np.array(y_train)"
      ],
      "id": "3e439335"
    },
    {
      "cell_type": "code",
      "execution_count": 13,
      "metadata": {
        "colab": {
          "base_uri": "https://localhost:8080/"
        },
        "id": "5b62b06c",
        "outputId": "fe0e7b02-51e9-4649-d4e3-7e081af915e2"
      },
      "outputs": [
        {
          "output_type": "execute_result",
          "data": {
            "text/plain": [
              "((7023, 150, 150, 3), (7023,))"
            ]
          },
          "metadata": {},
          "execution_count": 13
        }
      ],
      "source": [
        "#end of 1\n",
        "X_train.shape, y_train.shape"
      ],
      "id": "5b62b06c"
    },
    {
      "cell_type": "code",
      "execution_count": 14,
      "metadata": {
        "colab": {
          "base_uri": "https://localhost:8080/"
        },
        "id": "627b6dd6",
        "outputId": "9234c710-66de-4f61-f869-9d62182d8ab4"
      },
      "outputs": [
        {
          "output_type": "execute_result",
          "data": {
            "text/plain": [
              "array([[[ 1,  1,  1],\n",
              "        [ 0,  0,  0],\n",
              "        [ 0,  0,  0],\n",
              "        ...,\n",
              "        [ 0,  0,  0],\n",
              "        [ 1,  1,  1],\n",
              "        [ 1,  1,  1]],\n",
              "\n",
              "       [[ 3,  3,  3],\n",
              "        [ 5,  5,  5],\n",
              "        [ 5,  5,  5],\n",
              "        ...,\n",
              "        [ 5,  5,  5],\n",
              "        [ 5,  5,  5],\n",
              "        [ 4,  4,  4]],\n",
              "\n",
              "       [[ 3,  3,  3],\n",
              "        [ 7,  7,  7],\n",
              "        [11, 11, 11],\n",
              "        ...,\n",
              "        [ 7,  7,  7],\n",
              "        [ 8,  8,  8],\n",
              "        [ 5,  5,  5]],\n",
              "\n",
              "       ...,\n",
              "\n",
              "       [[ 5,  5,  5],\n",
              "        [ 7,  7,  7],\n",
              "        [ 7,  7,  7],\n",
              "        ...,\n",
              "        [ 6,  6,  6],\n",
              "        [ 7,  7,  7],\n",
              "        [ 4,  4,  4]],\n",
              "\n",
              "       [[ 1,  1,  1],\n",
              "        [ 1,  1,  1],\n",
              "        [ 1,  1,  1],\n",
              "        ...,\n",
              "        [ 2,  2,  2],\n",
              "        [ 1,  1,  1],\n",
              "        [ 1,  1,  1]],\n",
              "\n",
              "       [[ 1,  1,  1],\n",
              "        [ 1,  1,  1],\n",
              "        [ 1,  1,  1],\n",
              "        ...,\n",
              "        [ 0,  0,  0],\n",
              "        [ 0,  0,  0],\n",
              "        [ 0,  0,  0]]], dtype=uint8)"
            ]
          },
          "metadata": {},
          "execution_count": 14
        }
      ],
      "source": [
        "X_train[1]"
      ],
      "id": "627b6dd6"
    },
    {
      "cell_type": "code",
      "execution_count": 15,
      "metadata": {
        "colab": {
          "base_uri": "https://localhost:8080/",
          "height": 35
        },
        "id": "f175d011",
        "outputId": "49f193a0-8603-4b56-b8c8-c8c56ba1c265"
      },
      "outputs": [
        {
          "output_type": "execute_result",
          "data": {
            "text/plain": [
              "'pituitary'"
            ],
            "application/vnd.google.colaboratory.intrinsic+json": {
              "type": "string"
            }
          },
          "metadata": {},
          "execution_count": 15
        }
      ],
      "source": [
        "y_train[1]"
      ],
      "id": "f175d011"
    },
    {
      "cell_type": "code",
      "execution_count": 16,
      "metadata": {
        "colab": {
          "base_uri": "https://localhost:8080/"
        },
        "id": "90267d59",
        "outputId": "ddcdc30d-7a5c-4c55-c003-6ebda603a47d"
      },
      "outputs": [
        {
          "output_type": "execute_result",
          "data": {
            "text/plain": [
              "((7023, 150, 150, 3), (7023,))"
            ]
          },
          "metadata": {},
          "execution_count": 16
        }
      ],
      "source": [
        "X_train, y_train = shuffle(X_train, y_train, random_state = 99)\n",
        "X_train.shape, y_train.shape"
      ],
      "id": "90267d59"
    },
    {
      "cell_type": "code",
      "execution_count": 17,
      "metadata": {
        "id": "798d699e"
      },
      "outputs": [],
      "source": [
        "X_train, X_test, y_train, y_test = train_test_split(X_train, y_train, test_size = 0.2, random_state = 100)"
      ],
      "id": "798d699e"
    },
    {
      "cell_type": "code",
      "execution_count": 18,
      "metadata": {
        "colab": {
          "base_uri": "https://localhost:8080/"
        },
        "id": "55cce531",
        "outputId": "ba656e37-27b6-4c10-c913-e1c3f5807506"
      },
      "outputs": [
        {
          "output_type": "execute_result",
          "data": {
            "text/plain": [
              "array(['meningioma', 'meningioma', 'pituitary', 'glioma', 'pituitary'],\n",
              "      dtype='<U10')"
            ]
          },
          "metadata": {},
          "execution_count": 18
        }
      ],
      "source": [
        "y_train[:5]"
      ],
      "id": "55cce531"
    },
    {
      "cell_type": "code",
      "execution_count": 19,
      "metadata": {
        "colab": {
          "base_uri": "https://localhost:8080/"
        },
        "id": "4c419f23",
        "outputId": "71cb282b-fcda-4e01-a7c6-6e952ab444f0"
      },
      "outputs": [
        {
          "output_type": "execute_result",
          "data": {
            "text/plain": [
              "[1, 1, 0, 2, 0]"
            ]
          },
          "metadata": {},
          "execution_count": 19
        }
      ],
      "source": [
        "y_train_new = []\n",
        "for i in y_train:\n",
        "    y_train_new.append(labels.index(i))\n",
        "\n",
        "y_train_new[:5]"
      ],
      "id": "4c419f23"
    },
    {
      "cell_type": "code",
      "execution_count": 20,
      "metadata": {
        "colab": {
          "base_uri": "https://localhost:8080/"
        },
        "id": "67d6d544",
        "outputId": "8aa91ab1-469b-4831-dab5-4b288724c441"
      },
      "outputs": [
        {
          "output_type": "execute_result",
          "data": {
            "text/plain": [
              "array([[0., 1., 0., 0.],\n",
              "       [0., 1., 0., 0.],\n",
              "       [1., 0., 0., 0.],\n",
              "       ...,\n",
              "       [0., 1., 0., 0.],\n",
              "       [1., 0., 0., 0.],\n",
              "       [0., 0., 1., 0.]], dtype=float32)"
            ]
          },
          "metadata": {},
          "execution_count": 20
        }
      ],
      "source": [
        "y_train_new = tf.keras.utils.to_categorical(y_train_new)\n",
        "y_train_new"
      ],
      "id": "67d6d544"
    },
    {
      "cell_type": "code",
      "execution_count": 21,
      "metadata": {
        "colab": {
          "base_uri": "https://localhost:8080/"
        },
        "id": "ea571ccb",
        "outputId": "a4d47ea5-7ed6-4d07-b512-b96e959b1270"
      },
      "outputs": [
        {
          "output_type": "execute_result",
          "data": {
            "text/plain": [
              "array([[1., 0., 0., 0.],\n",
              "       [1., 0., 0., 0.],\n",
              "       [0., 0., 1., 0.],\n",
              "       ...,\n",
              "       [0., 0., 1., 0.],\n",
              "       [0., 0., 1., 0.],\n",
              "       [0., 0., 1., 0.]], dtype=float32)"
            ]
          },
          "metadata": {},
          "execution_count": 21
        }
      ],
      "source": [
        "\n",
        "#end of 2\n",
        "y_test_new = []\n",
        "for i in y_test:\n",
        "    y_test_new.append(labels.index(i))\n",
        "\n",
        "y_test_new = tf.keras.utils.to_categorical(y_test_new)\n",
        "y_test_new"
      ],
      "id": "ea571ccb"
    },
    {
      "cell_type": "code",
      "execution_count": 22,
      "metadata": {
        "id": "1cfc2cbb"
      },
      "outputs": [],
      "source": [
        "model = Sequential()\n",
        "model.add(Conv2D(32, (3,3), activation = 'relu', input_shape = (image_size, image_size, 3)))\n",
        "model.add(Conv2D(64, (3,3), activation = 'relu'))\n",
        "model.add(MaxPooling2D(2,2))\n",
        "model.add(Dropout(0.3))\n",
        "\n",
        "model.add(Conv2D(64, (3,3), activation = 'relu'))\n",
        "model.add(Conv2D(64, (3,3), activation = 'relu'))\n",
        "model.add(Dropout(0.3))\n",
        "model.add(MaxPooling2D(2,2))\n",
        "model.add(Dropout(0.3))\n",
        "\n",
        "model.add(Conv2D(128, (3,3), activation = 'relu'))\n",
        "model.add(Conv2D(128, (3,3), activation = 'relu'))\n",
        "model.add(Conv2D(128, (3,3), activation = 'relu'))\n",
        "model.add(MaxPooling2D(2,2))\n",
        "model.add(Dropout(0.3))\n",
        "\n",
        "model.add(Conv2D(128, (3,3), activation = 'relu'))\n",
        "model.add(Conv2D(256, (3,3), activation = 'relu'))\n",
        "model.add(MaxPooling2D(2,2))\n",
        "model.add(Dropout(0.3))\n",
        "\n",
        "model.add(Flatten())\n",
        "\n",
        "model.add(Dense(512, activation = 'relu'))\n",
        "model.add(Dense(512, activation = 'relu'))\n",
        "model.add(Dropout(0.3))\n",
        "\n",
        "model.add(Dense(4, activation = 'softmax'))"
      ],
      "id": "1cfc2cbb"
    },
    {
      "cell_type": "code",
      "execution_count": 23,
      "metadata": {
        "colab": {
          "base_uri": "https://localhost:8080/"
        },
        "id": "682bee21",
        "outputId": "aa653f20-44c4-45c6-c2de-a4b9bccec483"
      },
      "outputs": [
        {
          "output_type": "stream",
          "name": "stdout",
          "text": [
            "Model: \"sequential\"\n",
            "_________________________________________________________________\n",
            " Layer (type)                Output Shape              Param #   \n",
            "=================================================================\n",
            " conv2d (Conv2D)             (None, 148, 148, 32)      896       \n",
            "                                                                 \n",
            " conv2d_1 (Conv2D)           (None, 146, 146, 64)      18496     \n",
            "                                                                 \n",
            " max_pooling2d (MaxPooling2  (None, 73, 73, 64)        0         \n",
            " D)                                                              \n",
            "                                                                 \n",
            " dropout (Dropout)           (None, 73, 73, 64)        0         \n",
            "                                                                 \n",
            " conv2d_2 (Conv2D)           (None, 71, 71, 64)        36928     \n",
            "                                                                 \n",
            " conv2d_3 (Conv2D)           (None, 69, 69, 64)        36928     \n",
            "                                                                 \n",
            " dropout_1 (Dropout)         (None, 69, 69, 64)        0         \n",
            "                                                                 \n",
            " max_pooling2d_1 (MaxPoolin  (None, 34, 34, 64)        0         \n",
            " g2D)                                                            \n",
            "                                                                 \n",
            " dropout_2 (Dropout)         (None, 34, 34, 64)        0         \n",
            "                                                                 \n",
            " conv2d_4 (Conv2D)           (None, 32, 32, 128)       73856     \n",
            "                                                                 \n",
            " conv2d_5 (Conv2D)           (None, 30, 30, 128)       147584    \n",
            "                                                                 \n",
            " conv2d_6 (Conv2D)           (None, 28, 28, 128)       147584    \n",
            "                                                                 \n",
            " max_pooling2d_2 (MaxPoolin  (None, 14, 14, 128)       0         \n",
            " g2D)                                                            \n",
            "                                                                 \n",
            " dropout_3 (Dropout)         (None, 14, 14, 128)       0         \n",
            "                                                                 \n",
            " conv2d_7 (Conv2D)           (None, 12, 12, 128)       147584    \n",
            "                                                                 \n",
            " conv2d_8 (Conv2D)           (None, 10, 10, 256)       295168    \n",
            "                                                                 \n",
            " max_pooling2d_3 (MaxPoolin  (None, 5, 5, 256)         0         \n",
            " g2D)                                                            \n",
            "                                                                 \n",
            " dropout_4 (Dropout)         (None, 5, 5, 256)         0         \n",
            "                                                                 \n",
            " flatten (Flatten)           (None, 6400)              0         \n",
            "                                                                 \n",
            " dense (Dense)               (None, 512)               3277312   \n",
            "                                                                 \n",
            " dense_1 (Dense)             (None, 512)               262656    \n",
            "                                                                 \n",
            " dropout_5 (Dropout)         (None, 512)               0         \n",
            "                                                                 \n",
            " dense_2 (Dense)             (None, 4)                 2052      \n",
            "                                                                 \n",
            "=================================================================\n",
            "Total params: 4447044 (16.96 MB)\n",
            "Trainable params: 4447044 (16.96 MB)\n",
            "Non-trainable params: 0 (0.00 Byte)\n",
            "_________________________________________________________________\n"
          ]
        }
      ],
      "source": [
        "model.summary() # param -editable paramaters"
      ],
      "id": "682bee21"
    },
    {
      "cell_type": "code",
      "execution_count": 24,
      "metadata": {
        "id": "4e853b2e"
      },
      "outputs": [],
      "source": [
        "model.compile(\n",
        "    loss = 'categorical_crossentropy',\n",
        "    optimizer = 'Adam',\n",
        "    metrics = ['accuracy']\n",
        ")"
      ],
      "id": "4e853b2e"
    },
    {
      "cell_type": "code",
      "execution_count": 25,
      "metadata": {
        "colab": {
          "base_uri": "https://localhost:8080/"
        },
        "id": "05b7a923",
        "scrolled": true,
        "outputId": "2f8915d5-e58d-41ec-a8b9-fd8939bd0f87"
      },
      "outputs": [
        {
          "output_type": "stream",
          "name": "stdout",
          "text": [
            "Epoch 1/20\n",
            "158/158 [==============================] - 941s 6s/step - loss: 1.2524 - accuracy: 0.4660 - val_loss: 0.9591 - val_accuracy: 0.6068\n",
            "Epoch 2/20\n",
            "158/158 [==============================] - 958s 6s/step - loss: 0.6776 - accuracy: 0.7170 - val_loss: 0.7070 - val_accuracy: 0.6922\n",
            "Epoch 3/20\n",
            "158/158 [==============================] - 940s 6s/step - loss: 0.5457 - accuracy: 0.7706 - val_loss: 0.6059 - val_accuracy: 0.7456\n",
            "Epoch 4/20\n",
            "158/158 [==============================] - 929s 6s/step - loss: 0.4902 - accuracy: 0.7981 - val_loss: 0.5659 - val_accuracy: 0.7509\n",
            "Epoch 5/20\n",
            "158/158 [==============================] - 899s 6s/step - loss: 0.4117 - accuracy: 0.8319 - val_loss: 0.3854 - val_accuracy: 0.8381\n",
            "Epoch 6/20\n",
            "158/158 [==============================] - 915s 6s/step - loss: 0.3567 - accuracy: 0.8501 - val_loss: 0.6668 - val_accuracy: 0.7758\n",
            "Epoch 7/20\n",
            "158/158 [==============================] - 922s 6s/step - loss: 0.3082 - accuracy: 0.8710 - val_loss: 0.2938 - val_accuracy: 0.8915\n",
            "Epoch 8/20\n",
            "158/158 [==============================] - 906s 6s/step - loss: 0.2517 - accuracy: 0.9059 - val_loss: 0.3994 - val_accuracy: 0.8488\n",
            "Epoch 9/20\n",
            "158/158 [==============================] - 923s 6s/step - loss: 0.2119 - accuracy: 0.9201 - val_loss: 0.2835 - val_accuracy: 0.8950\n",
            "Epoch 10/20\n",
            "158/158 [==============================] - 937s 6s/step - loss: 0.1937 - accuracy: 0.9254 - val_loss: 0.3121 - val_accuracy: 0.8808\n",
            "Epoch 11/20\n",
            "158/158 [==============================] - 946s 6s/step - loss: 0.1551 - accuracy: 0.9422 - val_loss: 0.2844 - val_accuracy: 0.9004\n",
            "Epoch 12/20\n",
            "158/158 [==============================] - 896s 6s/step - loss: 0.1644 - accuracy: 0.9432 - val_loss: 0.2368 - val_accuracy: 0.9057\n",
            "Epoch 13/20\n",
            "158/158 [==============================] - 917s 6s/step - loss: 0.1334 - accuracy: 0.9500 - val_loss: 0.1947 - val_accuracy: 0.9324\n",
            "Epoch 14/20\n",
            "158/158 [==============================] - 920s 6s/step - loss: 0.1320 - accuracy: 0.9504 - val_loss: 0.2224 - val_accuracy: 0.9235\n",
            "Epoch 15/20\n",
            "158/158 [==============================] - 918s 6s/step - loss: 0.1238 - accuracy: 0.9563 - val_loss: 0.2142 - val_accuracy: 0.9181\n",
            "Epoch 16/20\n",
            "158/158 [==============================] - 914s 6s/step - loss: 0.1231 - accuracy: 0.9579 - val_loss: 0.2497 - val_accuracy: 0.9270\n",
            "Epoch 17/20\n",
            "158/158 [==============================] - 928s 6s/step - loss: 0.1153 - accuracy: 0.9569 - val_loss: 0.1481 - val_accuracy: 0.9466\n",
            "Epoch 18/20\n",
            "158/158 [==============================] - 904s 6s/step - loss: 0.0957 - accuracy: 0.9686 - val_loss: 0.1831 - val_accuracy: 0.9431\n",
            "Epoch 19/20\n",
            "158/158 [==============================] - 917s 6s/step - loss: 0.0911 - accuracy: 0.9691 - val_loss: 0.2319 - val_accuracy: 0.9306\n",
            "Epoch 20/20\n",
            "158/158 [==============================] - 913s 6s/step - loss: 0.0746 - accuracy: 0.9735 - val_loss: 0.2711 - val_accuracy: 0.9146\n"
          ]
        }
      ],
      "source": [
        "hist = model.fit(X_train, y_train_new, epochs =20, validation_split = 0.1)"
      ],
      "id": "05b7a923"
    },
    {
      "cell_type": "code",
      "execution_count": 26,
      "metadata": {
        "colab": {
          "base_uri": "https://localhost:8080/"
        },
        "id": "aaedc6af",
        "outputId": "ee972b37-b5ea-4177-8c6f-168bc9c21a03"
      },
      "outputs": [
        {
          "output_type": "stream",
          "name": "stderr",
          "text": [
            "/usr/local/lib/python3.10/dist-packages/keras/src/engine/training.py:3079: UserWarning: You are saving your model as an HDF5 file via `model.save()`. This file format is considered legacy. We recommend using instead the native Keras format, e.g. `model.save('my_model.keras')`.\n",
            "  saving_api.save_model(\n"
          ]
        }
      ],
      "source": [
        "model.save(\"Brain_Tumor_Image_Classification_Model.h5\")"
      ],
      "id": "aaedc6af"
    },
    {
      "cell_type": "code",
      "execution_count": 27,
      "metadata": {
        "id": "f2163096"
      },
      "outputs": [],
      "source": [
        "acc = hist.history['accuracy']\n",
        "val_acc = hist.history['val_accuracy']\n",
        "#end of 3"
      ],
      "id": "f2163096"
    },
    {
      "cell_type": "code",
      "execution_count": 28,
      "metadata": {
        "id": "0b598ddc",
        "colab": {
          "base_uri": "https://localhost:8080/",
          "height": 500
        },
        "outputId": "c8f47c6e-3beb-4598-d3ef-74c29c9386f5"
      },
      "outputs": [
        {
          "output_type": "display_data",
          "data": {
            "text/plain": [
              "<Figure size 1400x700 with 1 Axes>"
            ],
            "image/png": "[encoded data removed]"
          },
          "metadata": {}
        }
      ],
      "source": [
        "epochs = range(len(acc))\n",
        "fig = plt.figure(figsize = (14,7))\n",
        "plt.plot(epochs, acc, 'r', label = 'Training Accuracy')\n",
        "plt.plot(epochs, val_acc, 'b', label = 'Validation Accuracy')\n",
        "plt.legend(loc = 'upper left')\n",
        "plt.show()"
      ],
      "id": "0b598ddc"
    },
    {
      "cell_type": "code",
      "execution_count": 30,
      "metadata": {
        "id": "2930cf59",
        "colab": {
          "base_uri": "https://localhost:8080/",
          "height": 500
        },
        "outputId": "025eb3ea-8ee2-4d4c-feb4-f833fc0c427a"
      },
      "outputs": [
        {
          "output_type": "display_data",
          "data": {
            "text/plain": [
              "<Figure size 1400x700 with 1 Axes>"
            ],
            "image/png": "[encoded data removed]"
          },
          "metadata": {}
        }
      ],
      "source": [
        "loss = hist.history['loss']\n",
        "val_loss = hist.history['val_loss']\n",
        "\n",
        "epochs = range(len(acc))\n",
        "fig = plt.figure(figsize = (14,7))\n",
        "plt.plot(epochs, loss, 'r', label = 'Training Loss')\n",
        "plt.plot(epochs, val_loss, 'b', label = 'Validation Loss')\n",
        "plt.legend(loc = 'upper left')\n",
        "plt.show()"
      ],
      "id": "2930cf59"
    },
    {
      "cell_type": "code",
      "execution_count": 31,
      "metadata": {
        "id": "5a27470f",
        "colab": {
          "base_uri": "https://localhost:8080/"
        },
        "outputId": "754ae7c6-bc69-4657-eb4b-5a7c75facd24"
      },
      "outputs": [
        {
          "output_type": "execute_result",
          "data": {
            "text/plain": [
              "(150, 150, 3)"
            ]
          },
          "metadata": {},
          "execution_count": 31
        }
      ],
      "source": [
        "img_path = '/content/drive/MyDrive/shosho_ds/Testing/meningioma/Te-meTr_0001.jpg'\n",
        "img = cv2.imread(img_path)\n",
        "img = cv2.resize(img, (150, 150))\n",
        "img_array = np.array(img)\n",
        "\n",
        "img_array.shape"
      ],
      "id": "5a27470f"
    },
    {
      "cell_type": "code",
      "execution_count": 32,
      "metadata": {
        "id": "72496407",
        "colab": {
          "base_uri": "https://localhost:8080/"
        },
        "outputId": "dd3dcc5d-fd54-4765-b732-43a8f41a165c"
      },
      "outputs": [
        {
          "output_type": "execute_result",
          "data": {
            "text/plain": [
              "(1, 150, 150, 3)"
            ]
          },
          "metadata": {},
          "execution_count": 32
        }
      ],
      "source": [
        "img_array = img_array.reshape(1,150,150,3)\n",
        "img_array.shape"
      ],
      "id": "72496407"
    },
    {
      "cell_type": "code",
      "execution_count": 33,
      "metadata": {
        "id": "db33207e",
        "colab": {
          "base_uri": "https://localhost:8080/",
          "height": 435
        },
        "outputId": "a2c47392-cca0-42ad-ac60-5b3b703c3207"
      },
      "outputs": [
        {
          "output_type": "display_data",
          "data": {
            "text/plain": [
              "<Figure size 640x480 with 1 Axes>"
            ],
            "image/png": "[encoded data removed]"
          },
          "metadata": {}
        }
      ],
      "source": [
        "img = image.load_img(img_path)\n",
        "plt.imshow(img, interpolation = 'nearest')\n",
        "plt.show()"
      ],
      "id": "db33207e"
    },
    {
      "cell_type": "code",
      "execution_count": 34,
      "metadata": {
        "id": "529d99ab",
        "colab": {
          "base_uri": "https://localhost:8080/"
        },
        "outputId": "06f28ebd-5b4a-4377-e12e-f544e59667f6"
      },
      "outputs": [
        {
          "output_type": "stream",
          "name": "stdout",
          "text": [
            "1/1 [==============================] - 0s 223ms/step\n",
            "[[0.11300912 0.7308531  0.09471892 0.06141881]]\n"
          ]
        }
      ],
      "source": [
        "a = model.predict(img_array)\n",
        "print(a)"
      ],
      "id": "529d99ab"
    },
    {
      "cell_type": "code",
      "execution_count": 35,
      "metadata": {
        "id": "5ffe5c3a",
        "colab": {
          "base_uri": "https://localhost:8080/"
        },
        "outputId": "53b4666b-2add-42a4-845e-33e19257f396"
      },
      "outputs": [
        {
          "output_type": "execute_result",
          "data": {
            "text/plain": [
              "1"
            ]
          },
          "metadata": {},
          "execution_count": 35
        }
      ],
      "source": [
        "indices = a.argmax()\n",
        "indices"
      ],
      "id": "5ffe5c3a"
    },
    {
      "cell_type": "code",
      "execution_count": 36,
      "metadata": {
        "id": "e332bd08",
        "colab": {
          "base_uri": "https://localhost:8080/",
          "height": 35
        },
        "outputId": "67f38fed-ce41-4484-c39c-ab3fbb051aba"
      },
      "outputs": [
        {
          "output_type": "execute_result",
          "data": {
            "text/plain": [
              "'meningioma'"
            ],
            "application/vnd.google.colaboratory.intrinsic+json": {
              "type": "string"
            }
          },
          "metadata": {},
          "execution_count": 36
        }
      ],
      "source": [
        "labels[indices]"
      ],
      "id": "e332bd08"
    },
    {
      "cell_type": "code",
      "execution_count": 37,
      "metadata": {
        "id": "bJeE31OULY48",
        "colab": {
          "base_uri": "https://localhost:8080/"
        },
        "outputId": "4cb9d2ef-f539-47cd-b1ee-c410771677a5"
      },
      "outputs": [
        {
          "output_type": "stream",
          "name": "stdout",
          "text": [
            "44/44 [==============================] - 69s 2s/step - loss: 0.2464 - accuracy: 0.9189\n"
          ]
        }
      ],
      "source": [
        "results = model.evaluate( X_test,y_test_new )\n"
      ],
      "id": "bJeE31OULY48"
    },
    {
      "cell_type": "code",
      "execution_count": 38,
      "metadata": {
        "id": "086372e1"
      },
      "outputs": [],
      "source": [
        "from IPython.display import display,clear_output"
      ],
      "id": "086372e1"
    },
    {
      "cell_type": "code",
      "execution_count": 44,
      "metadata": {
        "id": "2a1a57bf",
        "colab": {
          "base_uri": "https://localhost:8080/",
          "height": 668,
          "referenced_widgets": [
            "8061e825c61b48b79afbad859bbe8753",
            "2073d32cabba4ff19971d57b96f18e55",
            "381ad0dae61c47869159f06d79395168",
            "fc2fd7750148498183ee4c653965b4d4",
            "4e8d7dbbed5d4ef586ee2e7b56823d94",
            "e21a05e56f5847869e8cd09ac91e980a",
            "d704e57225c54fe79c7b2e457434d06b",
            "0f2a8b7a98c843488d5d0fee424aa618",
            "afda92ddbc2f4dcd9acf6ee258896c5f",
            "178e6b437cf14140a7ff336cd4def9a5",
            "5bbfcd720e044bda8596e7602710d76e",
            "532eee94f6be494c942e60667ca154f9",
            "0f3e6fc8d2134f09b4fb4002949b07da",
            "e2c2913f4b1a467eba140250e770b44f",
            "eefee78729ea4938a0f85d12a7b81cd1",
            "1ca90ec1f85244a299a70f85226178d8",
            "5fa906c8c28349c9b84ffba3f76e061e",
            "dbf9d3678e1c4147b2ede729a695d648",
            "cf4a748aef51443f98d83d77217707b5",
            "004e404887a7471a9652475eae203242",
            "be03461a2a3846dc9ddce890af9e3d38",
            "588b39843016448e8928f14ddcb4356f",
            "3858ba244ebe4bbcbdcb8cbd711dcb3d",
            "5a41c1c119a4443ba7561975555b2da4",
            "c90b9abc00154e8993794b379b46befe",
            "5185b2d111714171bf06b93e977d83c7",
            "5a328f33011d4923860e2219ee8f10fd",
            "994dd6dd74864c078c81e3c93c1f22f1",
            "de1b563f33834c8185c1031d4c68ebb0",
            "b281a33d2c9a44f298fc5b902940e723"
          ]
        },
        "outputId": "43527e7a-95da-4953-b2e8-805d15dbbd07"
      },
      "outputs": [
        {
          "output_type": "display_data",
          "data": {
            "text/plain": [
              "VBox(children=(HBox(children=(Image(value=b'\\x89PNG\\r\\n\\x1a\\n\\x00\\x00\\x00\\rIHDR\\x00\\x00\\x00\\xe1\\x00\\x00\\x00\\xe…"
            ],
            "application/vnd.jupyter.widget-view+json": {
              "version_major": 2,
              "version_minor": 0,
              "model_id": "8061e825c61b48b79afbad859bbe8753"
            }
          },
          "metadata": {}
        },
        {
          "output_type": "stream",
          "name": "stdout",
          "text": [
            "1/1 [==============================] - 0s 110ms/step\n",
            "1/1 [==============================] - 0s 62ms/step\n",
            "1/1 [==============================] - 0s 62ms/step\n",
            "1/1 [==============================] - 0s 62ms/step\n",
            "1/1 [==============================] - 0s 107ms/step\n",
            "1/1 [==============================] - 0s 110ms/step\n",
            "1/1 [==============================] - 0s 105ms/step\n"
          ]
        }
      ],
      "source": [
        "def img_pred(upload, output):\n",
        "    for name, file_info in upload.value.items():\n",
        "        img = Image.open(io.BytesIO(file_info['content']))\n",
        "\n",
        "        # Check if the image is a valid MRI image\n",
        "        if img.mode != 'RGB':\n",
        "            output.value = 'Invalid image'\n",
        "            return\n",
        "\n",
        "        opencvImage = cv2.cvtColor(np.array(img), cv2.COLOR_RGB2BGR)\n",
        "        img = cv2.resize(opencvImage, (150, 150))\n",
        "        img = img.reshape(1, 150, 150, 3)\n",
        "        p = model.predict(img)\n",
        "        p = np.argmax(p,axis=1)[0]\n",
        "\n",
        "\n",
        "\n",
        "        if p == 0:\n",
        "                p = 'Glioma Tumor'\n",
        "        elif p == 1:\n",
        "                p = 'Meningioma Tumor'\n",
        "        elif p == 2:\n",
        "                p = 'No Tumor'\n",
        "        else:\n",
        "                p = 'Pituitary Tumor'\n",
        "\n",
        "        output.value = f'The model predicts that it is a {p}'\n",
        "\n",
        "# Define the file uploader widget\n",
        "uploader = widgets.FileUpload(accept='.jpg,.jpeg,.png', multiple=True)\n",
        "uploader_widget = widgets.Box([widgets.Label('Upload an image:'), uploader])\n",
        "uploader_widget.layout.margin = '10px'\n",
        "uploader_widget.layout.padding = '10px'\n",
        "uploader_widget.layout.border = '2px solid #cccccc'\n",
        "uploader_widget.layout.border_radius = '5px'\n",
        "uploader_widget.layout.width = '500px'\n",
        "\n",
        "# Define the output text box\n",
        "output = widgets.Textarea(value='', description='Prediction:', disabled=True)\n",
        "output_widget = widgets.Box([output])\n",
        "output_widget.layout.margin = '10px'\n",
        "output_widget.layout.padding = '10px'\n",
        "output_widget.layout.border = '2px solid #cccccc'\n",
        "output_widget.layout.border_radius = '5px'\n",
        "output_widget.layout.width = '500px'\n",
        "\n",
        "# Define the prediction button\n",
        "button = widgets.Button(description='Predict', button_style='info')\n",
        "button.layout.margin = '10px'\n",
        "button.layout.width = '100px'\n",
        "button.style.button_color = '#6c5ce7' # make button purple\n",
        "button.style.font_weight = 'bold'\n",
        "button.style.font_size = '16px'\n",
        "button.style.border_radius = '5px'\n",
        "button.style.border_color = '#3b8bed'\n",
        "button.style.border_width = '2px'\n",
        "\n",
        "# Define the event handler for the button\n",
        "def on_button_click(button):\n",
        "    img_pred(uploader, output)\n",
        "\n",
        "# Attach the event handler to the button\n",
        "button.on_click(on_button_click)\n",
        "\n",
        "# Define the logo image\n",
        "logo_image = widgets.Image(value=open('/content/drive/MyDrive/logo.png', 'rb').read(), format='png', width=200, height = 200)\n",
        "\n",
        "# Define the header box\n",
        "header_box = widgets.HBox([logo_image, widgets.Label('Brain Tumor Classifier',\n",
        "                                                     style={'font-weight': 'bold', 'font-size': '64pt'})])\n",
        "header_box.layout.margin = '20px'\n",
        "\n",
        "# Define the footer box\n",
        "footer_box = widgets.HBox([widgets.Label('Shabaan Model', style={'font-size': '14pt'})])\n",
        "footer_box.layout.margin = '20px'\n",
        "\n",
        "# Define the main box\n",
        "main_box = widgets.VBox([header_box, uploader_widget, button, output_widget, footer_box])\n",
        "main_box.layout.align_items = 'center'\n",
        "main_box.layout.justify_content = 'center'\n",
        "main_box.layout.background_color = '\t\t#F0F8FF'\n",
        "\n",
        "# Display the widgets in a vertical box layout\n",
        "display(main_box)\n",
        "\n"
      ],
      "id": "2a1a57bf"
    }
  ],
  "metadata": {
    "colab": {
      "provenance": []
    },
    "kernelspec": {
      "display_name": "Python 3 (ipykernel)",
      "language": "python",
      "name": "python3"
    },
    "language_info": {
      "codemirror_mode": {
        "name": "ipython",
        "version": 3
      },
      "file_extension": ".py",
      "mimetype": "text/x-python",
      "name": "python",
      "nbconvert_exporter": "python",
      "pygments_lexer": "ipython3",
      "version": "3.9.7"
    },
    "widgets": {
      "application/vnd.jupyter.widget-state+json": {
        "8061e825c61b48b79afbad859bbe8753": {
          "model_module": "@jupyter-widgets/controls",
          "model_name": "VBoxModel",
          "model_module_version": "1.5.0",
          "state": {
            "_dom_classes": [],
            "_model_module": "@jupyter-widgets/controls",
            "_model_module_version": "1.5.0",
            "_model_name": "VBoxModel",
            "_view_count": null,
            "_view_module": "@jupyter-widgets/controls",
            "_view_module_version": "1.5.0",
            "_view_name": "VBoxView",
            "box_style": "",
            "children": [
              "IPY_MODEL_2073d32cabba4ff19971d57b96f18e55",
              "IPY_MODEL_381ad0dae61c47869159f06d79395168",
              "IPY_MODEL_fc2fd7750148498183ee4c653965b4d4",
              "IPY_MODEL_4e8d7dbbed5d4ef586ee2e7b56823d94",
              "IPY_MODEL_e21a05e56f5847869e8cd09ac91e980a"
            ],
            "layout": "IPY_MODEL_d704e57225c54fe79c7b2e457434d06b"
          }
        },
        "2073d32cabba4ff19971d57b96f18e55": {
          "model_module": "@jupyter-widgets/controls",
          "model_name": "HBoxModel",
          "model_module_version": "1.5.0",
          "state": {
            "_dom_classes": [],
            "_model_module": "@jupyter-widgets/controls",
            "_model_module_version": "1.5.0",
            "_model_name": "HBoxModel",
            "_view_count": null,
            "_view_module": "@jupyter-widgets/controls",
            "_view_module_version": "1.5.0",
            "_view_name": "HBoxView",
            "box_style": "",
            "children": [
              "IPY_MODEL_0f2a8b7a98c843488d5d0fee424aa618",
              "IPY_MODEL_afda92ddbc2f4dcd9acf6ee258896c5f"
            ],
            "layout": "IPY_MODEL_178e6b437cf14140a7ff336cd4def9a5"
          }
        },
        "381ad0dae61c47869159f06d79395168": {
          "model_module": "@jupyter-widgets/controls",
          "model_name": "BoxModel",
          "model_module_version": "1.5.0",
          "state": {
            "_dom_classes": [],
            "_model_module": "@jupyter-widgets/controls",
            "_model_module_version": "1.5.0",
            "_model_name": "BoxModel",
            "_view_count": null,
            "_view_module": "@jupyter-widgets/controls",
            "_view_module_version": "1.5.0",
            "_view_name": "BoxView",
            "box_style": "",
            "children": [
              "IPY_MODEL_5bbfcd720e044bda8596e7602710d76e",
              "IPY_MODEL_532eee94f6be494c942e60667ca154f9"
            ],
            "layout": "IPY_MODEL_0f3e6fc8d2134f09b4fb4002949b07da"
          }
        },
        "fc2fd7750148498183ee4c653965b4d4": {
          "model_module": "@jupyter-widgets/controls",
          "model_name": "ButtonModel",
          "model_module_version": "1.5.0",
          "state": {
            "_dom_classes": [],
            "_model_module": "@jupyter-widgets/controls",
            "_model_module_version": "1.5.0",
            "_model_name": "ButtonModel",
            "_view_count": null,
            "_view_module": "@jupyter-widgets/controls",
            "_view_module_version": "1.5.0",
            "_view_name": "ButtonView",
            "button_style": "info",
            "description": "Predict",
            "disabled": false,
            "icon": "",
            "layout": "IPY_MODEL_e2c2913f4b1a467eba140250e770b44f",
            "style": "IPY_MODEL_eefee78729ea4938a0f85d12a7b81cd1",
            "tooltip": ""
          }
        },
        "4e8d7dbbed5d4ef586ee2e7b56823d94": {
          "model_module": "@jupyter-widgets/controls",
          "model_name": "BoxModel",
          "model_module_version": "1.5.0",
          "state": {
            "_dom_classes": [],
            "_model_module": "@jupyter-widgets/controls",
            "_model_module_version": "1.5.0",
            "_model_name": "BoxModel",
            "_view_count": null,
            "_view_module": "@jupyter-widgets/controls",
            "_view_module_version": "1.5.0",
            "_view_name": "BoxView",
            "box_style": "",
            "children": [
              "IPY_MODEL_1ca90ec1f85244a299a70f85226178d8"
            ],
            "layout": "IPY_MODEL_5fa906c8c28349c9b84ffba3f76e061e"
          }
        },
        "e21a05e56f5847869e8cd09ac91e980a": {
          "model_module": "@jupyter-widgets/controls",
          "model_name": "HBoxModel",
          "model_module_version": "1.5.0",
          "state": {
            "_dom_classes": [],
            "_model_module": "@jupyter-widgets/controls",
            "_model_module_version": "1.5.0",
            "_model_name": "HBoxModel",
            "_view_count": null,
            "_view_module": "@jupyter-widgets/controls",
            "_view_module_version": "1.5.0",
            "_view_name": "HBoxView",
            "box_style": "",
            "children": [
              "IPY_MODEL_dbf9d3678e1c4147b2ede729a695d648"
            ],
            "layout": "IPY_MODEL_cf4a748aef51443f98d83d77217707b5"
          }
        },
        "d704e57225c54fe79c7b2e457434d06b": {
          "model_module": "@jupyter-widgets/base",
          "model_name": "LayoutModel",
          "model_module_version": "1.2.0",
          "state": {
            "_model_module": "@jupyter-widgets/base",
            "_model_module_version": "1.2.0",
            "_model_name": "LayoutModel",
            "_view_count": null,
            "_view_module": "@jupyter-widgets/base",
            "_view_module_version": "1.2.0",
            "_view_name": "LayoutView",
            "align_content": null,
            "align_items": "center",
            "align_self": null,
            "border": null,
            "bottom": null,
            "display": null,
            "flex": null,
            "flex_flow": null,
            "grid_area": null,
            "grid_auto_columns": null,
            "grid_auto_flow": null,
            "grid_auto_rows": null,
            "grid_column": null,
            "grid_gap": null,
            "grid_row": null,
            "grid_template_areas": null,
            "grid_template_columns": null,
            "grid_template_rows": null,
            "height": null,
            "justify_content": "center",
            "justify_items": null,
            "left": null,
            "margin": null,
            "max_height": null,
            "max_width": null,
            "min_height": null,
            "min_width": null,
            "object_fit": null,
            "object_position": null,
            "order": null,
            "overflow": null,
            "overflow_x": null,
            "overflow_y": null,
            "padding": null,
            "right": null,
            "top": null,
            "visibility": null,
            "width": null
          }
        },
        "0f2a8b7a98c843488d5d0fee424aa618": {
          "model_module": "@jupyter-widgets/controls",
          "model_name": "ImageModel",
          "model_module_version": "1.5.0",
          "state": {
            "_dom_classes": [],
            "_model_module": "@jupyter-widgets/controls",
            "_model_module_version": "1.5.0",
            "_model_name": "ImageModel",
            "_view_count": null,
            "_view_module": "@jupyter-widgets/controls",
            "_view_module_version": "1.5.0",
            "_view_name": "ImageView",
            "format": "png",
            "height": "200",
            "layout": "IPY_MODEL_004e404887a7471a9652475eae203242",
            "width": "200"
          }
        },
        "afda92ddbc2f4dcd9acf6ee258896c5f": {
          "model_module": "@jupyter-widgets/controls",
          "model_name": "LabelModel",
          "model_module_version": "1.5.0",
          "state": {
            "_dom_classes": [],
            "_model_module": "@jupyter-widgets/controls",
            "_model_module_version": "1.5.0",
            "_model_name": "LabelModel",
            "_view_count": null,
            "_view_module": "@jupyter-widgets/controls",
            "_view_module_version": "1.5.0",
            "_view_name": "LabelView",
            "description": "",
            "description_tooltip": null,
            "layout": "IPY_MODEL_be03461a2a3846dc9ddce890af9e3d38",
            "placeholder": "​",
            "style": "IPY_MODEL_588b39843016448e8928f14ddcb4356f",
            "value": "Brain Tumor Classifier"
          }
        },
        "178e6b437cf14140a7ff336cd4def9a5": {
          "model_module": "@jupyter-widgets/base",
          "model_name": "LayoutModel",
          "model_module_version": "1.2.0",
          "state": {
            "_model_module": "@jupyter-widgets/base",
            "_model_module_version": "1.2.0",
            "_model_name": "LayoutModel",
            "_view_count": null,
            "_view_module": "@jupyter-widgets/base",
            "_view_module_version": "1.2.0",
            "_view_name": "LayoutView",
            "align_content": null,
            "align_items": null,
            "align_self": null,
            "border": null,
            "bottom": null,
            "display": null,
            "flex": null,
            "flex_flow": null,
            "grid_area": null,
            "grid_auto_columns": null,
            "grid_auto_flow": null,
            "grid_auto_rows": null,
            "grid_column": null,
            "grid_gap": null,
            "grid_row": null,
            "grid_template_areas": null,
            "grid_template_columns": null,
            "grid_template_rows": null,
            "height": null,
            "justify_content": null,
            "justify_items": null,
            "left": null,
            "margin": "20px",
            "max_height": null,
            "max_width": null,
            "min_height": null,
            "min_width": null,
            "object_fit": null,
            "object_position": null,
            "order": null,
            "overflow": null,
            "overflow_x": null,
            "overflow_y": null,
            "padding": null,
            "right": null,
            "top": null,
            "visibility": null,
            "width": null
          }
        },
        "5bbfcd720e044bda8596e7602710d76e": {
          "model_module": "@jupyter-widgets/controls",
          "model_name": "LabelModel",
          "model_module_version": "1.5.0",
          "state": {
            "_dom_classes": [],
            "_model_module": "@jupyter-widgets/controls",
            "_model_module_version": "1.5.0",
            "_model_name": "LabelModel",
            "_view_count": null,
            "_view_module": "@jupyter-widgets/controls",
            "_view_module_version": "1.5.0",
            "_view_name": "LabelView",
            "description": "",
            "description_tooltip": null,
            "layout": "IPY_MODEL_3858ba244ebe4bbcbdcb8cbd711dcb3d",
            "placeholder": "​",
            "style": "IPY_MODEL_5a41c1c119a4443ba7561975555b2da4",
            "value": "Upload an image:"
          }
        },
        "532eee94f6be494c942e60667ca154f9": {
          "model_module": "@jupyter-widgets/controls",
          "model_name": "FileUploadModel",
          "model_module_version": "1.5.0",
          "state": {
            "_counter": 5,
            "_dom_classes": [],
            "_model_module": "@jupyter-widgets/controls",
            "_model_module_version": "1.5.0",
            "_model_name": "FileUploadModel",
            "_view_count": null,
            "_view_module": "@jupyter-widgets/controls",
            "_view_module_version": "1.5.0",
            "_view_name": "FileUploadView",
            "accept": ".jpg,.jpeg,.png",
            "button_style": "",
            "data": [
              null
            ],
            "description": "Upload",
            "description_tooltip": null,
            "disabled": false,
            "error": "",
            "icon": "upload",
            "layout": "IPY_MODEL_c90b9abc00154e8993794b379b46befe",
            "metadata": [
              {
                "name": "Y6.jpg",
                "type": "image/jpeg",
                "size": 86579,
                "lastModified": 1693508230910
              }
            ],
            "multiple": true,
            "style": "IPY_MODEL_5185b2d111714171bf06b93e977d83c7"
          }
        },
        "0f3e6fc8d2134f09b4fb4002949b07da": {
          "model_module": "@jupyter-widgets/base",
          "model_name": "LayoutModel",
          "model_module_version": "1.2.0",
          "state": {
            "_model_module": "@jupyter-widgets/base",
            "_model_module_version": "1.2.0",
            "_model_name": "LayoutModel",
            "_view_count": null,
            "_view_module": "@jupyter-widgets/base",
            "_view_module_version": "1.2.0",
            "_view_name": "LayoutView",
            "align_content": null,
            "align_items": null,
            "align_self": null,
            "border": "2px solid #cccccc",
            "bottom": null,
            "display": null,
            "flex": null,
            "flex_flow": null,
            "grid_area": null,
            "grid_auto_columns": null,
            "grid_auto_flow": null,
            "grid_auto_rows": null,
            "grid_column": null,
            "grid_gap": null,
            "grid_row": null,
            "grid_template_areas": null,
            "grid_template_columns": null,
            "grid_template_rows": null,
            "height": null,
            "justify_content": null,
            "justify_items": null,
            "left": null,
            "margin": "10px",
            "max_height": null,
            "max_width": null,
            "min_height": null,
            "min_width": null,
            "object_fit": null,
            "object_position": null,
            "order": null,
            "overflow": null,
            "overflow_x": null,
            "overflow_y": null,
            "padding": "10px",
            "right": null,
            "top": null,
            "visibility": null,
            "width": "500px"
          }
        },
        "e2c2913f4b1a467eba140250e770b44f": {
          "model_module": "@jupyter-widgets/base",
          "model_name": "LayoutModel",
          "model_module_version": "1.2.0",
          "state": {
            "_model_module": "@jupyter-widgets/base",
            "_model_module_version": "1.2.0",
            "_model_name": "LayoutModel",
            "_view_count": null,
            "_view_module": "@jupyter-widgets/base",
            "_view_module_version": "1.2.0",
            "_view_name": "LayoutView",
            "align_content": null,
            "align_items": null,
            "align_self": null,
            "border": null,
            "bottom": null,
            "display": null,
            "flex": null,
            "flex_flow": null,
            "grid_area": null,
            "grid_auto_columns": null,
            "grid_auto_flow": null,
            "grid_auto_rows": null,
            "grid_column": null,
            "grid_gap": null,
            "grid_row": null,
            "grid_template_areas": null,
            "grid_template_columns": null,
            "grid_template_rows": null,
            "height": null,
            "justify_content": null,
            "justify_items": null,
            "left": null,
            "margin": "10px",
            "max_height": null,
            "max_width": null,
            "min_height": null,
            "min_width": null,
            "object_fit": null,
            "object_position": null,
            "order": null,
            "overflow": null,
            "overflow_x": null,
            "overflow_y": null,
            "padding": null,
            "right": null,
            "top": null,
            "visibility": null,
            "width": "100px"
          }
        },
        "eefee78729ea4938a0f85d12a7b81cd1": {
          "model_module": "@jupyter-widgets/controls",
          "model_name": "ButtonStyleModel",
          "model_module_version": "1.5.0",
          "state": {
            "_model_module": "@jupyter-widgets/controls",
            "_model_module_version": "1.5.0",
            "_model_name": "ButtonStyleModel",
            "_view_count": null,
            "_view_module": "@jupyter-widgets/base",
            "_view_module_version": "1.2.0",
            "_view_name": "StyleView",
            "button_color": "#6c5ce7",
            "font_weight": "bold"
          }
        },
        "1ca90ec1f85244a299a70f85226178d8": {
          "model_module": "@jupyter-widgets/controls",
          "model_name": "TextareaModel",
          "model_module_version": "1.5.0",
          "state": {
            "_dom_classes": [],
            "_model_module": "@jupyter-widgets/controls",
            "_model_module_version": "1.5.0",
            "_model_name": "TextareaModel",
            "_view_count": null,
            "_view_module": "@jupyter-widgets/controls",
            "_view_module_version": "1.5.0",
            "_view_name": "TextareaView",
            "continuous_update": true,
            "description": "Prediction:",
            "description_tooltip": null,
            "disabled": true,
            "layout": "IPY_MODEL_5a328f33011d4923860e2219ee8f10fd",
            "placeholder": "​",
            "rows": null,
            "style": "IPY_MODEL_994dd6dd74864c078c81e3c93c1f22f1",
            "value": "The model predicts that it is a Glioma Tumor"
          }
        },
        "5fa906c8c28349c9b84ffba3f76e061e": {
          "model_module": "@jupyter-widgets/base",
          "model_name": "LayoutModel",
          "model_module_version": "1.2.0",
          "state": {
            "_model_module": "@jupyter-widgets/base",
            "_model_module_version": "1.2.0",
            "_model_name": "LayoutModel",
            "_view_count": null,
            "_view_module": "@jupyter-widgets/base",
            "_view_module_version": "1.2.0",
            "_view_name": "LayoutView",
            "align_content": null,
            "align_items": null,
            "align_self": null,
            "border": "2px solid #cccccc",
            "bottom": null,
            "display": null,
            "flex": null,
            "flex_flow": null,
            "grid_area": null,
            "grid_auto_columns": null,
            "grid_auto_flow": null,
            "grid_auto_rows": null,
            "grid_column": null,
            "grid_gap": null,
            "grid_row": null,
            "grid_template_areas": null,
            "grid_template_columns": null,
            "grid_template_rows": null,
            "height": null,
            "justify_content": null,
            "justify_items": null,
            "left": null,
            "margin": "10px",
            "max_height": null,
            "max_width": null,
            "min_height": null,
            "min_width": null,
            "object_fit": null,
            "object_position": null,
            "order": null,
            "overflow": null,
            "overflow_x": null,
            "overflow_y": null,
            "padding": "10px",
            "right": null,
            "top": null,
            "visibility": null,
            "width": "500px"
          }
        },
        "dbf9d3678e1c4147b2ede729a695d648": {
          "model_module": "@jupyter-widgets/controls",
          "model_name": "LabelModel",
          "model_module_version": "1.5.0",
          "state": {
            "_dom_classes": [],
            "_model_module": "@jupyter-widgets/controls",
            "_model_module_version": "1.5.0",
            "_model_name": "LabelModel",
            "_view_count": null,
            "_view_module": "@jupyter-widgets/controls",
            "_view_module_version": "1.5.0",
            "_view_name": "LabelView",
            "description": "",
            "description_tooltip": null,
            "layout": "IPY_MODEL_de1b563f33834c8185c1031d4c68ebb0",
            "placeholder": "​",
            "style": "IPY_MODEL_b281a33d2c9a44f298fc5b902940e723",
            "value": "Shabaan Model"
          }
        },
        "cf4a748aef51443f98d83d77217707b5": {
          "model_module": "@jupyter-widgets/base",
          "model_name": "LayoutModel",
          "model_module_version": "1.2.0",
          "state": {
            "_model_module": "@jupyter-widgets/base",
            "_model_module_version": "1.2.0",
            "_model_name": "LayoutModel",
            "_view_count": null,
            "_view_module": "@jupyter-widgets/base",
            "_view_module_version": "1.2.0",
            "_view_name": "LayoutView",
            "align_content": null,
            "align_items": null,
            "align_self": null,
            "border": null,
            "bottom": null,
            "display": null,
            "flex": null,
            "flex_flow": null,
            "grid_area": null,
            "grid_auto_columns": null,
            "grid_auto_flow": null,
            "grid_auto_rows": null,
            "grid_column": null,
            "grid_gap": null,
            "grid_row": null,
            "grid_template_areas": null,
            "grid_template_columns": null,
            "grid_template_rows": null,
            "height": null,
            "justify_content": null,
            "justify_items": null,
            "left": null,
            "margin": "20px",
            "max_height": null,
            "max_width": null,
            "min_height": null,
            "min_width": null,
            "object_fit": null,
            "object_position": null,
            "order": null,
            "overflow": null,
            "overflow_x": null,
            "overflow_y": null,
            "padding": null,
            "right": null,
            "top": null,
            "visibility": null,
            "width": null
          }
        },
        "004e404887a7471a9652475eae203242": {
          "model_module": "@jupyter-widgets/base",
          "model_name": "LayoutModel",
          "model_module_version": "1.2.0",
          "state": {
            "_model_module": "@jupyter-widgets/base",
            "_model_module_version": "1.2.0",
            "_model_name": "LayoutModel",
            "_view_count": null,
            "_view_module": "@jupyter-widgets/base",
            "_view_module_version": "1.2.0",
            "_view_name": "LayoutView",
            "align_content": null,
            "align_items": null,
            "align_self": null,
            "border": null,
            "bottom": null,
            "display": null,
            "flex": null,
            "flex_flow": null,
            "grid_area": null,
            "grid_auto_columns": null,
            "grid_auto_flow": null,
            "grid_auto_rows": null,
            "grid_column": null,
            "grid_gap": null,
            "grid_row": null,
            "grid_template_areas": null,
            "grid_template_columns": null,
            "grid_template_rows": null,
            "height": null,
            "justify_content": null,
            "justify_items": null,
            "left": null,
            "margin": null,
            "max_height": null,
            "max_width": null,
            "min_height": null,
            "min_width": null,
            "object_fit": null,
            "object_position": null,
            "order": null,
            "overflow": null,
            "overflow_x": null,
            "overflow_y": null,
            "padding": null,
            "right": null,
            "top": null,
            "visibility": null,
            "width": null
          }
        },
        "be03461a2a3846dc9ddce890af9e3d38": {
          "model_module": "@jupyter-widgets/base",
          "model_name": "LayoutModel",
          "model_module_version": "1.2.0",
          "state": {
            "_model_module": "@jupyter-widgets/base",
            "_model_module_version": "1.2.0",
            "_model_name": "LayoutModel",
            "_view_count": null,
            "_view_module": "@jupyter-widgets/base",
            "_view_module_version": "1.2.0",
            "_view_name": "LayoutView",
            "align_content": null,
            "align_items": null,
            "align_self": null,
            "border": null,
            "bottom": null,
            "display": null,
            "flex": null,
            "flex_flow": null,
            "grid_area": null,
            "grid_auto_columns": null,
            "grid_auto_flow": null,
            "grid_auto_rows": null,
            "grid_column": null,
            "grid_gap": null,
            "grid_row": null,
            "grid_template_areas": null,
            "grid_template_columns": null,
            "grid_template_rows": null,
            "height": null,
            "justify_content": null,
            "justify_items": null,
            "left": null,
            "margin": null,
            "max_height": null,
            "max_width": null,
            "min_height": null,
            "min_width": null,
            "object_fit": null,
            "object_position": null,
            "order": null,
            "overflow": null,
            "overflow_x": null,
            "overflow_y": null,
            "padding": null,
            "right": null,
            "top": null,
            "visibility": null,
            "width": null
          }
        },
        "588b39843016448e8928f14ddcb4356f": {
          "model_module": "@jupyter-widgets/controls",
          "model_name": "DescriptionStyleModel",
          "model_module_version": "1.5.0",
          "state": {
            "_model_module": "@jupyter-widgets/controls",
            "_model_module_version": "1.5.0",
            "_model_name": "DescriptionStyleModel",
            "_view_count": null,
            "_view_module": "@jupyter-widgets/base",
            "_view_module_version": "1.2.0",
            "_view_name": "StyleView",
            "description_width": ""
          }
        },
        "3858ba244ebe4bbcbdcb8cbd711dcb3d": {
          "model_module": "@jupyter-widgets/base",
          "model_name": "LayoutModel",
          "model_module_version": "1.2.0",
          "state": {
            "_model_module": "@jupyter-widgets/base",
            "_model_module_version": "1.2.0",
            "_model_name": "LayoutModel",
            "_view_count": null,
            "_view_module": "@jupyter-widgets/base",
            "_view_module_version": "1.2.0",
            "_view_name": "LayoutView",
            "align_content": null,
            "align_items": null,
            "align_self": null,
            "border": null,
            "bottom": null,
            "display": null,
            "flex": null,
            "flex_flow": null,
            "grid_area": null,
            "grid_auto_columns": null,
            "grid_auto_flow": null,
            "grid_auto_rows": null,
            "grid_column": null,
            "grid_gap": null,
            "grid_row": null,
            "grid_template_areas": null,
            "grid_template_columns": null,
            "grid_template_rows": null,
            "height": null,
            "justify_content": null,
            "justify_items": null,
            "left": null,
            "margin": null,
            "max_height": null,
            "max_width": null,
            "min_height": null,
            "min_width": null,
            "object_fit": null,
            "object_position": null,
            "order": null,
            "overflow": null,
            "overflow_x": null,
            "overflow_y": null,
            "padding": null,
            "right": null,
            "top": null,
            "visibility": null,
            "width": null
          }
        },
        "5a41c1c119a4443ba7561975555b2da4": {
          "model_module": "@jupyter-widgets/controls",
          "model_name": "DescriptionStyleModel",
          "model_module_version": "1.5.0",
          "state": {
            "_model_module": "@jupyter-widgets/controls",
            "_model_module_version": "1.5.0",
            "_model_name": "DescriptionStyleModel",
            "_view_count": null,
            "_view_module": "@jupyter-widgets/base",
            "_view_module_version": "1.2.0",
            "_view_name": "StyleView",
            "description_width": ""
          }
        },
        "c90b9abc00154e8993794b379b46befe": {
          "model_module": "@jupyter-widgets/base",
          "model_name": "LayoutModel",
          "model_module_version": "1.2.0",
          "state": {
            "_model_module": "@jupyter-widgets/base",
            "_model_module_version": "1.2.0",
            "_model_name": "LayoutModel",
            "_view_count": null,
            "_view_module": "@jupyter-widgets/base",
            "_view_module_version": "1.2.0",
            "_view_name": "LayoutView",
            "align_content": null,
            "align_items": null,
            "align_self": null,
            "border": null,
            "bottom": null,
            "display": null,
            "flex": null,
            "flex_flow": null,
            "grid_area": null,
            "grid_auto_columns": null,
            "grid_auto_flow": null,
            "grid_auto_rows": null,
            "grid_column": null,
            "grid_gap": null,
            "grid_row": null,
            "grid_template_areas": null,
            "grid_template_columns": null,
            "grid_template_rows": null,
            "height": null,
            "justify_content": null,
            "justify_items": null,
            "left": null,
            "margin": null,
            "max_height": null,
            "max_width": null,
            "min_height": null,
            "min_width": null,
            "object_fit": null,
            "object_position": null,
            "order": null,
            "overflow": null,
            "overflow_x": null,
            "overflow_y": null,
            "padding": null,
            "right": null,
            "top": null,
            "visibility": null,
            "width": null
          }
        },
        "5185b2d111714171bf06b93e977d83c7": {
          "model_module": "@jupyter-widgets/controls",
          "model_name": "ButtonStyleModel",
          "model_module_version": "1.5.0",
          "state": {
            "_model_module": "@jupyter-widgets/controls",
            "_model_module_version": "1.5.0",
            "_model_name": "ButtonStyleModel",
            "_view_count": null,
            "_view_module": "@jupyter-widgets/base",
            "_view_module_version": "1.2.0",
            "_view_name": "StyleView",
            "button_color": null,
            "font_weight": ""
          }
        },
        "5a328f33011d4923860e2219ee8f10fd": {
          "model_module": "@jupyter-widgets/base",
          "model_name": "LayoutModel",
          "model_module_version": "1.2.0",
          "state": {
            "_model_module": "@jupyter-widgets/base",
            "_model_module_version": "1.2.0",
            "_model_name": "LayoutModel",
            "_view_count": null,
            "_view_module": "@jupyter-widgets/base",
            "_view_module_version": "1.2.0",
            "_view_name": "LayoutView",
            "align_content": null,
            "align_items": null,
            "align_self": null,
            "border": null,
            "bottom": null,
            "display": null,
            "flex": null,
            "flex_flow": null,
            "grid_area": null,
            "grid_auto_columns": null,
            "grid_auto_flow": null,
            "grid_auto_rows": null,
            "grid_column": null,
            "grid_gap": null,
            "grid_row": null,
            "grid_template_areas": null,
            "grid_template_columns": null,
            "grid_template_rows": null,
            "height": null,
            "justify_content": null,
            "justify_items": null,
            "left": null,
            "margin": null,
            "max_height": null,
            "max_width": null,
            "min_height": null,
            "min_width": null,
            "object_fit": null,
            "object_position": null,
            "order": null,
            "overflow": null,
            "overflow_x": null,
            "overflow_y": null,
            "padding": null,
            "right": null,
            "top": null,
            "visibility": null,
            "width": null
          }
        },
        "994dd6dd74864c078c81e3c93c1f22f1": {
          "model_module": "@jupyter-widgets/controls",
          "model_name": "DescriptionStyleModel",
          "model_module_version": "1.5.0",
          "state": {
            "_model_module": "@jupyter-widgets/controls",
            "_model_module_version": "1.5.0",
            "_model_name": "DescriptionStyleModel",
            "_view_count": null,
            "_view_module": "@jupyter-widgets/base",
            "_view_module_version": "1.2.0",
            "_view_name": "StyleView",
            "description_width": ""
          }
        },
        "de1b563f33834c8185c1031d4c68ebb0": {
          "model_module": "@jupyter-widgets/base",
          "model_name": "LayoutModel",
          "model_module_version": "1.2.0",
          "state": {
            "_model_module": "@jupyter-widgets/base",
            "_model_module_version": "1.2.0",
            "_model_name": "LayoutModel",
            "_view_count": null,
            "_view_module": "@jupyter-widgets/base",
            "_view_module_version": "1.2.0",
            "_view_name": "LayoutView",
            "align_content": null,
            "align_items": null,
            "align_self": null,
            "border": null,
            "bottom": null,
            "display": null,
            "flex": null,
            "flex_flow": null,
            "grid_area": null,
            "grid_auto_columns": null,
            "grid_auto_flow": null,
            "grid_auto_rows": null,
            "grid_column": null,
            "grid_gap": null,
            "grid_row": null,
            "grid_template_areas": null,
            "grid_template_columns": null,
            "grid_template_rows": null,
            "height": null,
            "justify_content": null,
            "justify_items": null,
            "left": null,
            "margin": null,
            "max_height": null,
            "max_width": null,
            "min_height": null,
            "min_width": null,
            "object_fit": null,
            "object_position": null,
            "order": null,
            "overflow": null,
            "overflow_x": null,
            "overflow_y": null,
            "padding": null,
            "right": null,
            "top": null,
            "visibility": null,
            "width": null
          }
        },
        "b281a33d2c9a44f298fc5b902940e723": {
          "model_module": "@jupyter-widgets/controls",
          "model_name": "DescriptionStyleModel",
          "model_module_version": "1.5.0",
          "state": {
            "_model_module": "@jupyter-widgets/controls",
            "_model_module_version": "1.5.0",
            "_model_name": "DescriptionStyleModel",
            "_view_count": null,
            "_view_module": "@jupyter-widgets/base",
            "_view_module_version": "1.2.0",
            "_view_name": "StyleView",
            "description_width": ""
          }
        }
      }
    }
  },
  "nbformat": 4,
  "nbformat_minor": 5
}